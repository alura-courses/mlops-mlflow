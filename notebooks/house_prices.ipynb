{
 "cells": [
  {
   "cell_type": "code",
   "execution_count": 1,
   "metadata": {},
   "outputs": [
    {
     "name": "stdout",
     "output_type": "stream",
     "text": [
      "Collecting package metadata (current_repodata.json): done\n",
      "Solving environment: done\n",
      "\n",
      "\n",
      "==> WARNING: A newer version of conda exists. <==\n",
      "  current version: 22.9.0\n",
      "  latest version: 23.1.0\n",
      "\n",
      "Please update conda by running\n",
      "\n",
      "    $ conda update -n base -c defaults conda\n",
      "\n",
      "\n",
      "\n",
      "# All requested packages already installed.\n",
      "\n",
      "Retrieving notices: ...working... done\n"
     ]
    }
   ],
   "source": [
    "!conda install pandas"
   ]
  },
  {
   "cell_type": "code",
   "execution_count": 1,
   "metadata": {},
   "outputs": [],
   "source": [
    "import pandas as pd"
   ]
  },
  {
   "cell_type": "code",
   "execution_count": 2,
   "metadata": {},
   "outputs": [
    {
     "data": {
      "text/html": [
       "<div>\n",
       "<style scoped>\n",
       "    .dataframe tbody tr th:only-of-type {\n",
       "        vertical-align: middle;\n",
       "    }\n",
       "\n",
       "    .dataframe tbody tr th {\n",
       "        vertical-align: top;\n",
       "    }\n",
       "\n",
       "    .dataframe thead th {\n",
       "        text-align: right;\n",
       "    }\n",
       "</style>\n",
       "<table border=\"1\" class=\"dataframe\">\n",
       "  <thead>\n",
       "    <tr style=\"text-align: right;\">\n",
       "      <th></th>\n",
       "      <th>square_meters</th>\n",
       "      <th>year_built</th>\n",
       "      <th>garage_cars</th>\n",
       "      <th>price</th>\n",
       "    </tr>\n",
       "  </thead>\n",
       "  <tbody>\n",
       "    <tr>\n",
       "      <th>0</th>\n",
       "      <td>159.0</td>\n",
       "      <td>2003</td>\n",
       "      <td>2</td>\n",
       "      <td>208500</td>\n",
       "    </tr>\n",
       "    <tr>\n",
       "      <th>1</th>\n",
       "      <td>117.0</td>\n",
       "      <td>1976</td>\n",
       "      <td>2</td>\n",
       "      <td>181500</td>\n",
       "    </tr>\n",
       "    <tr>\n",
       "      <th>2</th>\n",
       "      <td>166.0</td>\n",
       "      <td>2001</td>\n",
       "      <td>2</td>\n",
       "      <td>223500</td>\n",
       "    </tr>\n",
       "    <tr>\n",
       "      <th>3</th>\n",
       "      <td>160.0</td>\n",
       "      <td>1915</td>\n",
       "      <td>3</td>\n",
       "      <td>140000</td>\n",
       "    </tr>\n",
       "    <tr>\n",
       "      <th>4</th>\n",
       "      <td>204.0</td>\n",
       "      <td>2000</td>\n",
       "      <td>3</td>\n",
       "      <td>250000</td>\n",
       "    </tr>\n",
       "  </tbody>\n",
       "</table>\n",
       "</div>"
      ],
      "text/plain": [
       "   square_meters  year_built  garage_cars   price\n",
       "0          159.0        2003            2  208500\n",
       "1          117.0        1976            2  181500\n",
       "2          166.0        2001            2  223500\n",
       "3          160.0        1915            3  140000\n",
       "4          204.0        2000            3  250000"
      ]
     },
     "execution_count": 2,
     "metadata": {},
     "output_type": "execute_result"
    }
   ],
   "source": [
    "df = pd.read_csv('../data/processed/alura_real_estate.csv')\n",
    "df.head()"
   ]
  },
  {
   "cell_type": "code",
   "execution_count": 3,
   "metadata": {},
   "outputs": [],
   "source": [
    "x = df.drop('price', axis=1)\n",
    "y = df['price']"
   ]
  },
  {
   "cell_type": "code",
   "execution_count": 6,
   "metadata": {},
   "outputs": [
    {
     "name": "stdout",
     "output_type": "stream",
     "text": [
      "Collecting package metadata (current_repodata.json): done\n",
      "Solving environment: done\n",
      "\n",
      "\n",
      "==> WARNING: A newer version of conda exists. <==\n",
      "  current version: 22.9.0\n",
      "  latest version: 23.1.0\n",
      "\n",
      "Please update conda by running\n",
      "\n",
      "    $ conda update -n base -c defaults conda\n",
      "\n",
      "\n",
      "\n",
      "# All requested packages already installed.\n",
      "\n",
      "Retrieving notices: ...working... done\n"
     ]
    }
   ],
   "source": [
    "!conda install scikit-learn -y"
   ]
  },
  {
   "cell_type": "code",
   "execution_count": 4,
   "metadata": {},
   "outputs": [],
   "source": [
    "from sklearn.model_selection import train_test_split\n",
    "\n",
    "X_train, X_test, y_train, y_test = train_test_split(x, y, test_size=0.3, random_state=42)"
   ]
  },
  {
   "cell_type": "code",
   "execution_count": 5,
   "metadata": {},
   "outputs": [
    {
     "data": {
      "text/html": [
       "<div>\n",
       "<style scoped>\n",
       "    .dataframe tbody tr th:only-of-type {\n",
       "        vertical-align: middle;\n",
       "    }\n",
       "\n",
       "    .dataframe tbody tr th {\n",
       "        vertical-align: top;\n",
       "    }\n",
       "\n",
       "    .dataframe thead th {\n",
       "        text-align: right;\n",
       "    }\n",
       "</style>\n",
       "<table border=\"1\" class=\"dataframe\">\n",
       "  <thead>\n",
       "    <tr style=\"text-align: right;\">\n",
       "      <th></th>\n",
       "      <th>square_meters</th>\n",
       "      <th>year_built</th>\n",
       "      <th>garage_cars</th>\n",
       "    </tr>\n",
       "  </thead>\n",
       "  <tbody>\n",
       "    <tr>\n",
       "      <th>135</th>\n",
       "      <td>156.0</td>\n",
       "      <td>1970</td>\n",
       "      <td>2</td>\n",
       "    </tr>\n",
       "    <tr>\n",
       "      <th>1452</th>\n",
       "      <td>100.0</td>\n",
       "      <td>2005</td>\n",
       "      <td>2</td>\n",
       "    </tr>\n",
       "    <tr>\n",
       "      <th>762</th>\n",
       "      <td>144.0</td>\n",
       "      <td>2009</td>\n",
       "      <td>2</td>\n",
       "    </tr>\n",
       "    <tr>\n",
       "      <th>932</th>\n",
       "      <td>177.0</td>\n",
       "      <td>2006</td>\n",
       "      <td>3</td>\n",
       "    </tr>\n",
       "    <tr>\n",
       "      <th>435</th>\n",
       "      <td>154.0</td>\n",
       "      <td>1996</td>\n",
       "      <td>2</td>\n",
       "    </tr>\n",
       "  </tbody>\n",
       "</table>\n",
       "</div>"
      ],
      "text/plain": [
       "      square_meters  year_built  garage_cars\n",
       "135           156.0        1970            2\n",
       "1452          100.0        2005            2\n",
       "762           144.0        2009            2\n",
       "932           177.0        2006            3\n",
       "435           154.0        1996            2"
      ]
     },
     "execution_count": 5,
     "metadata": {},
     "output_type": "execute_result"
    }
   ],
   "source": [
    "X_train.head()"
   ]
  },
  {
   "cell_type": "code",
   "execution_count": 6,
   "metadata": {},
   "outputs": [
    {
     "data": {
      "text/plain": [
       "135     174000\n",
       "1452    145000\n",
       "762     215200\n",
       "932     320000\n",
       "435     212000\n",
       "         ...  \n",
       "1095    176432\n",
       "1130    135000\n",
       "1294    115000\n",
       "860     189950\n",
       "1126    174000\n",
       "Name: price, Length: 1022, dtype: int64"
      ]
     },
     "execution_count": 6,
     "metadata": {},
     "output_type": "execute_result"
    }
   ],
   "source": [
    "y_train"
   ]
  },
  {
   "attachments": {},
   "cell_type": "markdown",
   "metadata": {},
   "source": [
    "# Linear Regression"
   ]
  },
  {
   "cell_type": "code",
   "execution_count": 7,
   "metadata": {},
   "outputs": [
    {
     "data": {
      "text/plain": [
       "<Experiment: artifact_location='file:///home/julio/jobs/alura/mlflow-en/mlflow/notebooks/mlruns/747829818802971770', creation_time=1676161451122, experiment_id='747829818802971770', last_update_time=1676161451122, lifecycle_stage='active', name='house-prices', tags={}>"
      ]
     },
     "execution_count": 7,
     "metadata": {},
     "output_type": "execute_result"
    }
   ],
   "source": [
    "import mlflow\n",
    "\n",
    "mlflow.set_experiment('house-prices')"
   ]
  },
  {
   "cell_type": "code",
   "execution_count": 8,
   "metadata": {},
   "outputs": [],
   "source": [
    "from sklearn.linear_model import LinearRegression"
   ]
  },
  {
   "cell_type": "code",
   "execution_count": 9,
   "metadata": {},
   "outputs": [
    {
     "data": {
      "text/plain": [
       "<ActiveRun: >"
      ]
     },
     "execution_count": 9,
     "metadata": {},
     "output_type": "execute_result"
    }
   ],
   "source": [
    "mlflow.start_run()"
   ]
  },
  {
   "cell_type": "code",
   "execution_count": 10,
   "metadata": {},
   "outputs": [
    {
     "data": {
      "text/html": [
       "<style>#sk-container-id-1 {color: black;background-color: white;}#sk-container-id-1 pre{padding: 0;}#sk-container-id-1 div.sk-toggleable {background-color: white;}#sk-container-id-1 label.sk-toggleable__label {cursor: pointer;display: block;width: 100%;margin-bottom: 0;padding: 0.3em;box-sizing: border-box;text-align: center;}#sk-container-id-1 label.sk-toggleable__label-arrow:before {content: \"▸\";float: left;margin-right: 0.25em;color: #696969;}#sk-container-id-1 label.sk-toggleable__label-arrow:hover:before {color: black;}#sk-container-id-1 div.sk-estimator:hover label.sk-toggleable__label-arrow:before {color: black;}#sk-container-id-1 div.sk-toggleable__content {max-height: 0;max-width: 0;overflow: hidden;text-align: left;background-color: #f0f8ff;}#sk-container-id-1 div.sk-toggleable__content pre {margin: 0.2em;color: black;border-radius: 0.25em;background-color: #f0f8ff;}#sk-container-id-1 input.sk-toggleable__control:checked~div.sk-toggleable__content {max-height: 200px;max-width: 100%;overflow: auto;}#sk-container-id-1 input.sk-toggleable__control:checked~label.sk-toggleable__label-arrow:before {content: \"▾\";}#sk-container-id-1 div.sk-estimator input.sk-toggleable__control:checked~label.sk-toggleable__label {background-color: #d4ebff;}#sk-container-id-1 div.sk-label input.sk-toggleable__control:checked~label.sk-toggleable__label {background-color: #d4ebff;}#sk-container-id-1 input.sk-hidden--visually {border: 0;clip: rect(1px 1px 1px 1px);clip: rect(1px, 1px, 1px, 1px);height: 1px;margin: -1px;overflow: hidden;padding: 0;position: absolute;width: 1px;}#sk-container-id-1 div.sk-estimator {font-family: monospace;background-color: #f0f8ff;border: 1px dotted black;border-radius: 0.25em;box-sizing: border-box;margin-bottom: 0.5em;}#sk-container-id-1 div.sk-estimator:hover {background-color: #d4ebff;}#sk-container-id-1 div.sk-parallel-item::after {content: \"\";width: 100%;border-bottom: 1px solid gray;flex-grow: 1;}#sk-container-id-1 div.sk-label:hover label.sk-toggleable__label {background-color: #d4ebff;}#sk-container-id-1 div.sk-serial::before {content: \"\";position: absolute;border-left: 1px solid gray;box-sizing: border-box;top: 0;bottom: 0;left: 50%;z-index: 0;}#sk-container-id-1 div.sk-serial {display: flex;flex-direction: column;align-items: center;background-color: white;padding-right: 0.2em;padding-left: 0.2em;position: relative;}#sk-container-id-1 div.sk-item {position: relative;z-index: 1;}#sk-container-id-1 div.sk-parallel {display: flex;align-items: stretch;justify-content: center;background-color: white;position: relative;}#sk-container-id-1 div.sk-item::before, #sk-container-id-1 div.sk-parallel-item::before {content: \"\";position: absolute;border-left: 1px solid gray;box-sizing: border-box;top: 0;bottom: 0;left: 50%;z-index: -1;}#sk-container-id-1 div.sk-parallel-item {display: flex;flex-direction: column;z-index: 1;position: relative;background-color: white;}#sk-container-id-1 div.sk-parallel-item:first-child::after {align-self: flex-end;width: 50%;}#sk-container-id-1 div.sk-parallel-item:last-child::after {align-self: flex-start;width: 50%;}#sk-container-id-1 div.sk-parallel-item:only-child::after {width: 0;}#sk-container-id-1 div.sk-dashed-wrapped {border: 1px dashed gray;margin: 0 0.4em 0.5em 0.4em;box-sizing: border-box;padding-bottom: 0.4em;background-color: white;}#sk-container-id-1 div.sk-label label {font-family: monospace;font-weight: bold;display: inline-block;line-height: 1.2em;}#sk-container-id-1 div.sk-label-container {text-align: center;}#sk-container-id-1 div.sk-container {/* jupyter's `normalize.less` sets `[hidden] { display: none; }` but bootstrap.min.css set `[hidden] { display: none !important; }` so we also need the `!important` here to be able to override the default hidden behavior on the sphinx rendered scikit-learn.org. See: https://github.com/scikit-learn/scikit-learn/issues/21755 */display: inline-block !important;position: relative;}#sk-container-id-1 div.sk-text-repr-fallback {display: none;}</style><div id=\"sk-container-id-1\" class=\"sk-top-container\"><div class=\"sk-text-repr-fallback\"><pre>LinearRegression()</pre><b>In a Jupyter environment, please rerun this cell to show the HTML representation or trust the notebook. <br />On GitHub, the HTML representation is unable to render, please try loading this page with nbviewer.org.</b></div><div class=\"sk-container\" hidden><div class=\"sk-item\"><div class=\"sk-estimator sk-toggleable\"><input class=\"sk-toggleable__control sk-hidden--visually\" id=\"sk-estimator-id-1\" type=\"checkbox\" checked><label for=\"sk-estimator-id-1\" class=\"sk-toggleable__label sk-toggleable__label-arrow\">LinearRegression</label><div class=\"sk-toggleable__content\"><pre>LinearRegression()</pre></div></div></div></div></div>"
      ],
      "text/plain": [
       "LinearRegression()"
      ]
     },
     "execution_count": 10,
     "metadata": {},
     "output_type": "execute_result"
    }
   ],
   "source": [
    "\n",
    "lr = LinearRegression()\n",
    "lr.fit(X_train, y_train)"
   ]
  },
  {
   "cell_type": "code",
   "execution_count": 27,
   "metadata": {},
   "outputs": [
    {
     "name": "stdout",
     "output_type": "stream",
     "text": [
      "Collecting package metadata (current_repodata.json): done\n",
      "Solving environment: done\n",
      "\n",
      "\n",
      "==> WARNING: A newer version of conda exists. <==\n",
      "  current version: 22.9.0\n",
      "  latest version: 23.1.0\n",
      "\n",
      "Please update conda by running\n",
      "\n",
      "    $ conda update -n base -c defaults conda\n",
      "\n",
      "\n",
      "\n",
      "# All requested packages already installed.\n",
      "\n",
      "Retrieving notices: ...working... done\n"
     ]
    }
   ],
   "source": [
    "!conda install -c conda-forge mlflow['xgboost','scikit-learn'] -y"
   ]
  },
  {
   "cell_type": "code",
   "execution_count": 11,
   "metadata": {},
   "outputs": [
    {
     "name": "stderr",
     "output_type": "stream",
     "text": [
      "/home/julio/anaconda3/envs/py10/lib/python3.10/site-packages/_distutils_hack/__init__.py:33: UserWarning: Setuptools is replacing distutils.\n",
      "  warnings.warn(\"Setuptools is replacing distutils.\")\n"
     ]
    },
    {
     "data": {
      "text/plain": [
       "<mlflow.models.model.ModelInfo at 0x7f7d547fc640>"
      ]
     },
     "execution_count": 11,
     "metadata": {},
     "output_type": "execute_result"
    }
   ],
   "source": [
    "mlflow.sklearn.log_model(lr,'lr')"
   ]
  },
  {
   "cell_type": "code",
   "execution_count": 12,
   "metadata": {},
   "outputs": [
    {
     "data": {
      "text/plain": [
       "119279.77015440399"
      ]
     },
     "execution_count": 12,
     "metadata": {},
     "output_type": "execute_result"
    }
   ],
   "source": [
    "lr.predict(X_test)[0]"
   ]
  },
  {
   "cell_type": "code",
   "execution_count": 13,
   "metadata": {},
   "outputs": [],
   "source": [
    "from sklearn.metrics import mean_squared_error, r2_score"
   ]
  },
  {
   "cell_type": "code",
   "execution_count": 14,
   "metadata": {},
   "outputs": [],
   "source": [
    "lr_predicted = lr.predict(X_test)"
   ]
  },
  {
   "cell_type": "code",
   "execution_count": 15,
   "metadata": {},
   "outputs": [],
   "source": [
    "import math\n",
    "\n",
    "mse = mean_squared_error(y_test, lr_predicted)\n",
    "r2 = r2_score(y_test, lr_predicted)\n",
    "rmse = math.sqrt(mse)\n",
    "mlflow.log_metric(\"mse\",mse)\n",
    "mlflow.log_metric(\"rmse\",rmse)\n",
    "mlflow.log_metric(\"r2\",r2)"
   ]
  },
  {
   "cell_type": "code",
   "execution_count": 16,
   "metadata": {},
   "outputs": [],
   "source": [
    "mlflow.end_run()"
   ]
  },
  {
   "cell_type": "code",
   "execution_count": 17,
   "metadata": {},
   "outputs": [
    {
     "name": "stdout",
     "output_type": "stream",
     "text": [
      " rmse: 45592.399782518485, mse: 2078666917.9289918, r2 0.7021153642898047\n"
     ]
    }
   ],
   "source": [
    "print(f' rmse: {rmse}, mse: {mse}, r2 {r2}')"
   ]
  },
  {
   "attachments": {},
   "cell_type": "markdown",
   "metadata": {},
   "source": [
    "# XGBoost"
   ]
  },
  {
   "cell_type": "code",
   "execution_count": 18,
   "metadata": {},
   "outputs": [
    {
     "name": "stdout",
     "output_type": "stream",
     "text": [
      "Collecting package metadata (current_repodata.json): done\n",
      "Solving environment: done\n",
      "\n",
      "\n",
      "==> WARNING: A newer version of conda exists. <==\n",
      "  current version: 22.9.0\n",
      "  latest version: 23.1.0\n",
      "\n",
      "Please update conda by running\n",
      "\n",
      "    $ conda update -n base -c defaults conda\n",
      "\n",
      "\n",
      "\n",
      "## Package Plan ##\n",
      "\n",
      "  environment location: /home/julio/anaconda3/envs/py10\n",
      "\n",
      "  added / updated specs:\n",
      "    - xgboost\n",
      "\n",
      "\n",
      "The following NEW packages will be INSTALLED:\n",
      "\n",
      "  _py-xgboost-mutex  pkgs/main/linux-64::_py-xgboost-mutex-2.0-cpu_0 None\n",
      "  libxgboost         pkgs/main/linux-64::libxgboost-1.7.3-h6a678d5_0 None\n",
      "  py-xgboost         pkgs/main/linux-64::py-xgboost-1.7.3-py310h06a4308_0 None\n",
      "  xgboost            pkgs/main/linux-64::xgboost-1.7.3-py310h06a4308_0 None\n",
      "\n",
      "\n",
      "Preparing transaction: done\n",
      "Verifying transaction: done\n",
      "Executing transaction: done\n",
      "Retrieving notices: ...working... done\n"
     ]
    }
   ],
   "source": [
    "!conda install xgboost -y"
   ]
  },
  {
   "cell_type": "code",
   "execution_count": 18,
   "metadata": {},
   "outputs": [],
   "source": [
    "from xgboost import XGBRegressor"
   ]
  },
  {
   "cell_type": "code",
   "execution_count": 19,
   "metadata": {},
   "outputs": [
    {
     "name": "stdout",
     "output_type": "stream",
     "text": [
      " rmse: 39380.40189141977, mse: 1550816053.129738, r2 0.7777593557411607\n"
     ]
    }
   ],
   "source": [
    "with mlflow.start_run():\n",
    "    xgb = XGBRegressor(random_state=42)\n",
    "    xgb.fit(X_train, y_train)\n",
    "    mlflow.xgboost.log_model(xgb, \"xgb\")\n",
    "    xgb_predicted = xgb.predict(X_test)\n",
    "    mse = mean_squared_error(y_test, xgb_predicted)\n",
    "    r2 = r2_score(y_test, xgb_predicted)\n",
    "    rmse = math.sqrt(mse)\n",
    "    print(f' rmse: {rmse}, mse: {mse}, r2 {r2}')\n",
    "    mlflow.log_metric(\"mse\",mse)\n",
    "    mlflow.log_metric(\"rmse\",rmse)\n",
    "    mlflow.log_metric(\"r2\",r2)"
   ]
  },
  {
   "attachments": {},
   "cell_type": "markdown",
   "metadata": {},
   "source": [
    "## Testing params"
   ]
  },
  {
   "cell_type": "code",
   "execution_count": 20,
   "metadata": {},
   "outputs": [
    {
     "name": "stdout",
     "output_type": "stream",
     "text": [
      "[21:36:10] WARNING: /croot/xgboost-split_1675457761144/work/src/learner.cc:767: \n",
      "Parameters: { \"random_stage\" } are not used.\n",
      "\n",
      " rmse: 37238.789724353286, mse: 1386727460.1346002, r2 0.8012741720529797\n"
     ]
    }
   ],
   "source": [
    "with mlflow.start_run():\n",
    "    xgb = XGBRegressor(learning_rate=0.2, n_estimators=50, random_stage=42)\n",
    "    xgb.fit(X_train, y_train)\n",
    "    mlflow.xgboost.log_model(xgb, \"xgb\")\n",
    "    xgb_predicted = xgb.predict(X_test)\n",
    "    mse = mean_squared_error(y_test, xgb_predicted)\n",
    "    r2 = r2_score(y_test, xgb_predicted)\n",
    "    rmse = math.sqrt(mse)\n",
    "    print(f' rmse: {rmse}, mse: {mse}, r2 {r2}')\n",
    "    mlflow.log_metric(\"mse\",mse)\n",
    "    mlflow.log_metric(\"rmse\",rmse)\n",
    "    mlflow.log_metric(\"r2\",r2)"
   ]
  },
  {
   "cell_type": "code",
   "execution_count": 25,
   "metadata": {},
   "outputs": [
    {
     "name": "stdout",
     "output_type": "stream",
     "text": [
      " rmse: 37238.789724353286, mse: 1386727460.1346002, r2 0.8012741720529797\n"
     ]
    }
   ],
   "source": [
    "xgb_predicted = xgb.predict(X_test)\n",
    "mse = mean_squared_error(y_test, xgb_predicted)\n",
    "r2 = r2_score(y_test, xgb_predicted)\n",
    "rmse = math.sqrt(mse)\n",
    "print(f' rmse: {rmse}, mse: {mse}, r2 {r2}')"
   ]
  },
  {
   "cell_type": "markdown",
   "metadata": {},
   "source": []
  },
  {
   "cell_type": "code",
   "execution_count": 21,
   "metadata": {},
   "outputs": [
    {
     "data": {
      "text/plain": [
       "<Experiment: artifact_location='file:///home/julio/jobs/alura/mlflow-en/mlflow/notebooks/mlruns/747829818802971770', creation_time=1676161451122, experiment_id='747829818802971770', last_update_time=1676161451122, lifecycle_stage='active', name='house-prices', tags={}>"
      ]
     },
     "execution_count": 21,
     "metadata": {},
     "output_type": "execute_result"
    }
   ],
   "source": [
    "experiment = mlflow.get_experiment_by_name('house-prices')\n",
    "experiment"
   ]
  },
  {
   "cell_type": "code",
   "execution_count": 27,
   "metadata": {},
   "outputs": [
    {
     "data": {
      "text/html": [
       "<div>\n",
       "<style scoped>\n",
       "    .dataframe tbody tr th:only-of-type {\n",
       "        vertical-align: middle;\n",
       "    }\n",
       "\n",
       "    .dataframe tbody tr th {\n",
       "        vertical-align: top;\n",
       "    }\n",
       "\n",
       "    .dataframe thead th {\n",
       "        text-align: right;\n",
       "    }\n",
       "</style>\n",
       "<table border=\"1\" class=\"dataframe\">\n",
       "  <thead>\n",
       "    <tr style=\"text-align: right;\">\n",
       "      <th></th>\n",
       "      <th>run_id</th>\n",
       "      <th>experiment_id</th>\n",
       "      <th>status</th>\n",
       "      <th>artifact_uri</th>\n",
       "      <th>start_time</th>\n",
       "      <th>end_time</th>\n",
       "      <th>metrics.rmse</th>\n",
       "      <th>metrics.mse</th>\n",
       "      <th>metrics.r2</th>\n",
       "      <th>tags.mlflow.source.name</th>\n",
       "      <th>tags.mlflow.runName</th>\n",
       "      <th>tags.mlflow.log-model.history</th>\n",
       "      <th>tags.mlflow.user</th>\n",
       "      <th>tags.mlflow.source.type</th>\n",
       "    </tr>\n",
       "  </thead>\n",
       "  <tbody>\n",
       "    <tr>\n",
       "      <th>0</th>\n",
       "      <td>404c0b5d2afc4aa59f342419781e0c3c</td>\n",
       "      <td>747829818802971770</td>\n",
       "      <td>FINISHED</td>\n",
       "      <td>file:///home/julio/jobs/alura/mlflow-en/mlflow...</td>\n",
       "      <td>2023-02-12 00:36:10.702000+00:00</td>\n",
       "      <td>2023-02-12 00:36:13.059000+00:00</td>\n",
       "      <td>37238.789724</td>\n",
       "      <td>1.386727e+09</td>\n",
       "      <td>0.801274</td>\n",
       "      <td>/home/julio/anaconda3/envs/py10/lib/python3.10...</td>\n",
       "      <td>judicious-tern-343</td>\n",
       "      <td>[{\"run_id\": \"404c0b5d2afc4aa59f342419781e0c3c\"...</td>\n",
       "      <td>julio</td>\n",
       "      <td>LOCAL</td>\n",
       "    </tr>\n",
       "    <tr>\n",
       "      <th>1</th>\n",
       "      <td>47ab4072d7a74c4a9ca97740456b398f</td>\n",
       "      <td>747829818802971770</td>\n",
       "      <td>FINISHED</td>\n",
       "      <td>file:///home/julio/jobs/alura/mlflow-en/mlflow...</td>\n",
       "      <td>2023-02-12 00:35:37.499000+00:00</td>\n",
       "      <td>2023-02-12 00:35:39.663000+00:00</td>\n",
       "      <td>39380.401891</td>\n",
       "      <td>1.550816e+09</td>\n",
       "      <td>0.777759</td>\n",
       "      <td>/home/julio/anaconda3/envs/py10/lib/python3.10...</td>\n",
       "      <td>upbeat-panda-851</td>\n",
       "      <td>[{\"run_id\": \"47ab4072d7a74c4a9ca97740456b398f\"...</td>\n",
       "      <td>julio</td>\n",
       "      <td>LOCAL</td>\n",
       "    </tr>\n",
       "    <tr>\n",
       "      <th>2</th>\n",
       "      <td>2e07863e694c480a9dca1e77a30d81a7</td>\n",
       "      <td>747829818802971770</td>\n",
       "      <td>FAILED</td>\n",
       "      <td>file:///home/julio/jobs/alura/mlflow-en/mlflow...</td>\n",
       "      <td>2023-02-12 00:35:30.979000+00:00</td>\n",
       "      <td>2023-02-12 00:35:30.992000+00:00</td>\n",
       "      <td>NaN</td>\n",
       "      <td>NaN</td>\n",
       "      <td>NaN</td>\n",
       "      <td>/home/julio/anaconda3/envs/py10/lib/python3.10...</td>\n",
       "      <td>crawling-dog-665</td>\n",
       "      <td>None</td>\n",
       "      <td>julio</td>\n",
       "      <td>LOCAL</td>\n",
       "    </tr>\n",
       "    <tr>\n",
       "      <th>3</th>\n",
       "      <td>098e1a6c257c4426894405be02e76440</td>\n",
       "      <td>747829818802971770</td>\n",
       "      <td>FINISHED</td>\n",
       "      <td>file:///home/julio/jobs/alura/mlflow-en/mlflow...</td>\n",
       "      <td>2023-02-12 00:29:24.506000+00:00</td>\n",
       "      <td>2023-02-12 00:32:17.181000+00:00</td>\n",
       "      <td>45592.399783</td>\n",
       "      <td>2.078667e+09</td>\n",
       "      <td>0.702115</td>\n",
       "      <td>/home/julio/anaconda3/envs/py10/lib/python3.10...</td>\n",
       "      <td>nebulous-boar-164</td>\n",
       "      <td>[{\"run_id\": \"098e1a6c257c4426894405be02e76440\"...</td>\n",
       "      <td>julio</td>\n",
       "      <td>LOCAL</td>\n",
       "    </tr>\n",
       "    <tr>\n",
       "      <th>4</th>\n",
       "      <td>2007c778301f4c12819170e498ff1d8e</td>\n",
       "      <td>747829818802971770</td>\n",
       "      <td>RUNNING</td>\n",
       "      <td>file:///home/julio/jobs/alura/mlflow-en/mlflow...</td>\n",
       "      <td>2023-02-12 00:25:23.617000+00:00</td>\n",
       "      <td>NaT</td>\n",
       "      <td>NaN</td>\n",
       "      <td>NaN</td>\n",
       "      <td>NaN</td>\n",
       "      <td>/home/julio/anaconda3/envs/py10/lib/python3.10...</td>\n",
       "      <td>painted-loon-470</td>\n",
       "      <td>None</td>\n",
       "      <td>julio</td>\n",
       "      <td>LOCAL</td>\n",
       "    </tr>\n",
       "  </tbody>\n",
       "</table>\n",
       "</div>"
      ],
      "text/plain": [
       "                             run_id       experiment_id    status  \\\n",
       "0  404c0b5d2afc4aa59f342419781e0c3c  747829818802971770  FINISHED   \n",
       "1  47ab4072d7a74c4a9ca97740456b398f  747829818802971770  FINISHED   \n",
       "2  2e07863e694c480a9dca1e77a30d81a7  747829818802971770    FAILED   \n",
       "3  098e1a6c257c4426894405be02e76440  747829818802971770  FINISHED   \n",
       "4  2007c778301f4c12819170e498ff1d8e  747829818802971770   RUNNING   \n",
       "\n",
       "                                        artifact_uri  \\\n",
       "0  file:///home/julio/jobs/alura/mlflow-en/mlflow...   \n",
       "1  file:///home/julio/jobs/alura/mlflow-en/mlflow...   \n",
       "2  file:///home/julio/jobs/alura/mlflow-en/mlflow...   \n",
       "3  file:///home/julio/jobs/alura/mlflow-en/mlflow...   \n",
       "4  file:///home/julio/jobs/alura/mlflow-en/mlflow...   \n",
       "\n",
       "                        start_time                         end_time  \\\n",
       "0 2023-02-12 00:36:10.702000+00:00 2023-02-12 00:36:13.059000+00:00   \n",
       "1 2023-02-12 00:35:37.499000+00:00 2023-02-12 00:35:39.663000+00:00   \n",
       "2 2023-02-12 00:35:30.979000+00:00 2023-02-12 00:35:30.992000+00:00   \n",
       "3 2023-02-12 00:29:24.506000+00:00 2023-02-12 00:32:17.181000+00:00   \n",
       "4 2023-02-12 00:25:23.617000+00:00                              NaT   \n",
       "\n",
       "   metrics.rmse   metrics.mse  metrics.r2  \\\n",
       "0  37238.789724  1.386727e+09    0.801274   \n",
       "1  39380.401891  1.550816e+09    0.777759   \n",
       "2           NaN           NaN         NaN   \n",
       "3  45592.399783  2.078667e+09    0.702115   \n",
       "4           NaN           NaN         NaN   \n",
       "\n",
       "                             tags.mlflow.source.name tags.mlflow.runName  \\\n",
       "0  /home/julio/anaconda3/envs/py10/lib/python3.10...  judicious-tern-343   \n",
       "1  /home/julio/anaconda3/envs/py10/lib/python3.10...    upbeat-panda-851   \n",
       "2  /home/julio/anaconda3/envs/py10/lib/python3.10...    crawling-dog-665   \n",
       "3  /home/julio/anaconda3/envs/py10/lib/python3.10...   nebulous-boar-164   \n",
       "4  /home/julio/anaconda3/envs/py10/lib/python3.10...    painted-loon-470   \n",
       "\n",
       "                       tags.mlflow.log-model.history tags.mlflow.user  \\\n",
       "0  [{\"run_id\": \"404c0b5d2afc4aa59f342419781e0c3c\"...            julio   \n",
       "1  [{\"run_id\": \"47ab4072d7a74c4a9ca97740456b398f\"...            julio   \n",
       "2                                               None            julio   \n",
       "3  [{\"run_id\": \"098e1a6c257c4426894405be02e76440\"...            julio   \n",
       "4                                               None            julio   \n",
       "\n",
       "  tags.mlflow.source.type  \n",
       "0                   LOCAL  \n",
       "1                   LOCAL  \n",
       "2                   LOCAL  \n",
       "3                   LOCAL  \n",
       "4                   LOCAL  "
      ]
     },
     "execution_count": 27,
     "metadata": {},
     "output_type": "execute_result"
    }
   ],
   "source": [
    "runs = mlflow.search_runs(experiment_names=['house-prices'])\n",
    "runs"
   ]
  },
  {
   "cell_type": "code",
   "execution_count": 28,
   "metadata": {},
   "outputs": [
    {
     "data": {
      "text/plain": [
       "<Run: data=<RunData: metrics={'mse': 1386727460.1346002,\n",
       " 'r2': 0.8012741720529797,\n",
       " 'rmse': 37238.789724353286}, params={}, tags={'mlflow.log-model.history': '[{\"run_id\": \"404c0b5d2afc4aa59f342419781e0c3c\", '\n",
       "                             '\"artifact_path\": \"xgb\", \"utc_time_created\": '\n",
       "                             '\"2023-02-12 00:36:10.772253\", \"flavors\": '\n",
       "                             '{\"python_function\": {\"loader_module\": '\n",
       "                             '\"mlflow.xgboost\", \"python_version\": \"3.10.9\", '\n",
       "                             '\"data\": \"model.None\", \"env\": {\"conda\": '\n",
       "                             '\"conda.yaml\", \"virtualenv\": \"python_env.yaml\"}}, '\n",
       "                             '\"xgboost\": {\"xgb_version\": \"1.7.3\", \"data\": '\n",
       "                             '\"model.None\", \"model_class\": '\n",
       "                             '\"xgboost.sklearn.XGBRegressor\", \"model_format\": '\n",
       "                             'null, \"code\": null}}, \"model_uuid\": '\n",
       "                             '\"c0875ad01edf4922a13c38bd46ae69fd\", '\n",
       "                             '\"mlflow_version\": \"2.1.1\"}]',\n",
       " 'mlflow.runName': 'judicious-tern-343',\n",
       " 'mlflow.source.name': '/home/julio/anaconda3/envs/py10/lib/python3.10/site-packages/ipykernel_launcher.py',\n",
       " 'mlflow.source.type': 'LOCAL',\n",
       " 'mlflow.user': 'julio'}>, info=<RunInfo: artifact_uri='file:///home/julio/jobs/alura/mlflow-en/mlflow/notebooks/mlruns/747829818802971770/404c0b5d2afc4aa59f342419781e0c3c/artifacts', end_time=1676162173059, experiment_id='747829818802971770', lifecycle_stage='active', run_id='404c0b5d2afc4aa59f342419781e0c3c', run_name='judicious-tern-343', run_uuid='404c0b5d2afc4aa59f342419781e0c3c', start_time=1676162170702, status='FINISHED', user_id='julio'>>"
      ]
     },
     "execution_count": 28,
     "metadata": {},
     "output_type": "execute_result"
    }
   ],
   "source": [
    "mlflow.get_run('404c0b5d2afc4aa59f342419781e0c3c')"
   ]
  },
  {
   "cell_type": "code",
   "execution_count": null,
   "metadata": {},
   "outputs": [],
   "source": []
  }
 ],
 "metadata": {
  "kernelspec": {
   "display_name": "py10",
   "language": "python",
   "name": "python3"
  },
  "language_info": {
   "codemirror_mode": {
    "name": "ipython",
    "version": 3
   },
   "file_extension": ".py",
   "mimetype": "text/x-python",
   "name": "python",
   "nbconvert_exporter": "python",
   "pygments_lexer": "ipython3",
   "version": "3.10.9"
  },
  "orig_nbformat": 4,
  "vscode": {
   "interpreter": {
    "hash": "f449d462581be25158ca64110a661f26ee10d47b00e744b9857c80017aafd6da"
   }
  }
 },
 "nbformat": 4,
 "nbformat_minor": 2
}
